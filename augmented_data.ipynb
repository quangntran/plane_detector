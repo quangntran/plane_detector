{
 "cells": [
  {
   "cell_type": "code",
   "execution_count": 5,
   "metadata": {},
   "outputs": [],
   "source": [
    "import PIL\n",
    "from PIL import Image\n",
    "\n",
    "def flip_lr(img):\n",
    "    im = Image.open(img)\n",
    "    out = im.transpose(PIL.Image.FLIP_LEFT_RIGHT)\n",
    "    out.save(str(img[:-4])+'_lr.png')\n",
    "def flip_tb(img):\n",
    "    im = Image.open(img)\n",
    "    out = im.transpose(PIL.Image.FLIP_TOP_BOTTOM)\n",
    "    out.save(str(img[:-4])+'_tb.png')\n",
    "def rotate_90(img):\n",
    "    im = Image.open(img)\n",
    "    out = im.transpose(PIL.Image.ROTATE_90)\n",
    "    out.save(str(img[:-4])+'_90.png')\n",
    "def rotate_180(img):\n",
    "    im = Image.open(img)\n",
    "    out = im.transpose(PIL.Image.ROTATE_180)\n",
    "    out.save(str(img[:-4])+'_180.png')\n",
    "def rotate_270(img):\n",
    "    im = Image.open(img)\n",
    "    out = im.transpose(PIL.Image.ROTATE_270)\n",
    "    out.save(str(img[:-4])+'_270.png')  \n",
    "def transpose(img):\n",
    "    im = Image.open(img)\n",
    "    out = im.transpose(PIL.Image.TRANSPOSE)\n",
    "    out.save(str(img[:-4])+'_transpose.png')\n"
   ]
  },
  {
   "cell_type": "code",
   "execution_count": 6,
   "metadata": {},
   "outputs": [],
   "source": [
    "def augment():\n",
    "    for i in range(102):\n",
    "        if i == 3 or i == 69:\n",
    "            continue\n",
    "        flip_lr('airport_crop/%s.png'%str(i))\n",
    "        flip_tb('airport_crop/%s.png'%str(i))\n",
    "        rotate_90('airport_crop/%s.png'%str(i))\n",
    "        rotate_180('airport_crop/%s.png'%str(i))\n",
    "        rotate_270('airport_crop/%s.png'%str(i))\n",
    "        transpose('airport_crop/%s.png'%str(i))"
   ]
  },
  {
   "cell_type": "code",
   "execution_count": 9,
   "metadata": {},
   "outputs": [],
   "source": [
    "flip_lr('airport_crop/77.png')\n",
    "flip_tb('airport_crop/77.png')\n",
    "rotate_90('airport_crop/77.png')\n",
    "rotate_180('airport_crop/77.png')\n",
    "rotate_270('airport_crop/77.png')\n",
    "transpose('airport_crop/77.png')"
   ]
  },
  {
   "cell_type": "code",
   "execution_count": null,
   "metadata": {},
   "outputs": [],
   "source": []
  }
 ],
 "metadata": {
  "kernelspec": {
   "display_name": "Python 3",
   "language": "python",
   "name": "python3"
  },
  "language_info": {
   "codemirror_mode": {
    "name": "ipython",
    "version": 3
   },
   "file_extension": ".py",
   "mimetype": "text/x-python",
   "name": "python",
   "nbconvert_exporter": "python",
   "pygments_lexer": "ipython3",
   "version": "3.6.8"
  }
 },
 "nbformat": 4,
 "nbformat_minor": 2
}
